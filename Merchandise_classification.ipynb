{
 "cells": [
  {
   "cell_type": "code",
   "execution_count": 26,
   "metadata": {},
   "outputs": [],
   "source": [
    "import numpy as np\n",
    "import pandas as pd\n",
    "from xgboost import XGBClassifier\n",
    "from sklearn.model_selection import train_test_split\n",
    "from sklearn.metrics import accuracy_score\n",
    "from sklearn.metrics import log_loss\n",
    "%config IPCompleter.greedy=True"
   ]
  },
  {
   "cell_type": "markdown",
   "metadata": {},
   "source": [
    "## Reading data to dataframes"
   ]
  },
  {
   "cell_type": "code",
   "execution_count": 50,
   "metadata": {},
   "outputs": [
    {
     "name": "stdout",
     "output_type": "stream",
     "text": [
      "Train shape is (18208, 12)\n",
      "Tests shape is (12140, 11)\n"
     ]
    }
   ],
   "source": [
    "dataset = pd.read_csv('Train.csv')\n",
    "print('Train shape is '+ str(dataset.shape))\n",
    "\n",
    "dataset_test = pd.read_csv('Test.csv')\n",
    "print('Tests shape is '+ str(dataset_test.shape))\n"
   ]
  },
  {
   "cell_type": "markdown",
   "metadata": {},
   "source": [
    "## Preparing dataset for model"
   ]
  },
  {
   "cell_type": "code",
   "execution_count": 53,
   "metadata": {},
   "outputs": [
    {
     "name": "stdout",
     "output_type": "stream",
     "text": [
      "(18208, 11)\n",
      "(18208,)\n"
     ]
    }
   ],
   "source": [
    "X_train = dataset.drop(columns=['popularity'])\n",
    "print(X_train.shape)\n",
    "\n",
    "y_train = dataset['popularity']\n",
    "print(y_train.shape)\n"
   ]
  },
  {
   "cell_type": "markdown",
   "metadata": {},
   "source": [
    "## Training model"
   ]
  },
  {
   "cell_type": "code",
   "execution_count": 17,
   "metadata": {},
   "outputs": [
    {
     "data": {
      "text/plain": [
       "XGBClassifier(base_score=0.5, booster='gbtree', colsample_bylevel=1,\n",
       "              colsample_bynode=1, colsample_bytree=1, gamma=0, gpu_id=-1,\n",
       "              importance_type='gain', interaction_constraints='',\n",
       "              learning_rate=0.300000012, max_delta_step=0, max_depth=6,\n",
       "              min_child_weight=1, missing=nan, monotone_constraints='()',\n",
       "              n_estimators=100, n_jobs=0, num_parallel_tree=1,\n",
       "              objective='multi:softprob', random_state=0, reg_alpha=0,\n",
       "              reg_lambda=1, scale_pos_weight=None, subsample=1,\n",
       "              tree_method='exact', validate_parameters=1, verbosity=None)"
      ]
     },
     "execution_count": 17,
     "metadata": {},
     "output_type": "execute_result"
    }
   ],
   "source": [
    "model = XGBClassifier()\n",
    "model.fit(X_train, y_train)"
   ]
  },
  {
   "cell_type": "markdown",
   "metadata": {},
   "source": [
    "## Predicting over test data"
   ]
  },
  {
   "cell_type": "code",
   "execution_count": 43,
   "metadata": {},
   "outputs": [
    {
     "data": {
      "text/plain": [
       "array([[2.6817595e-05, 9.8489374e-03, 8.1609422e-01, 1.6311435e-01,\n",
       "        1.0915663e-02],\n",
       "       [1.4055881e-05, 1.2967275e-03, 1.5690651e-02, 9.8161685e-01,\n",
       "        1.3817408e-03],\n",
       "       [2.6169257e-05, 2.6583797e-03, 4.9725242e-02, 9.3333006e-01,\n",
       "        1.4260154e-02],\n",
       "       ...,\n",
       "       [6.0734328e-06, 1.5775078e-04, 5.9268414e-03, 9.9366635e-01,\n",
       "        2.4295018e-04],\n",
       "       [6.4170163e-06, 8.3880295e-04, 5.8029974e-03, 9.9272996e-01,\n",
       "        6.2178244e-04],\n",
       "       [1.3468145e-05, 1.3760251e-03, 1.1716907e-01, 8.6469859e-01,\n",
       "        1.6742831e-02]], dtype=float32)"
      ]
     },
     "execution_count": 43,
     "metadata": {},
     "output_type": "execute_result"
    }
   ],
   "source": [
    "y_pred = model.predict_proba(dataset_test)\n",
    "y_pred"
   ]
  },
  {
   "cell_type": "markdown",
   "metadata": {},
   "source": [
    "## Creating submission dataframe "
   ]
  },
  {
   "cell_type": "code",
   "execution_count": 54,
   "metadata": {},
   "outputs": [
    {
     "data": {
      "text/html": [
       "<div>\n",
       "<style scoped>\n",
       "    .dataframe tbody tr th:only-of-type {\n",
       "        vertical-align: middle;\n",
       "    }\n",
       "\n",
       "    .dataframe tbody tr th {\n",
       "        vertical-align: top;\n",
       "    }\n",
       "\n",
       "    .dataframe thead th {\n",
       "        text-align: right;\n",
       "    }\n",
       "</style>\n",
       "<table border=\"1\" class=\"dataframe\">\n",
       "  <thead>\n",
       "    <tr style=\"text-align: right;\">\n",
       "      <th></th>\n",
       "      <th>0</th>\n",
       "      <th>1</th>\n",
       "      <th>3</th>\n",
       "      <th>4</th>\n",
       "      <th>5</th>\n",
       "    </tr>\n",
       "  </thead>\n",
       "  <tbody>\n",
       "    <tr>\n",
       "      <th>0</th>\n",
       "      <td>0.000027</td>\n",
       "      <td>0.009849</td>\n",
       "      <td>0.816094</td>\n",
       "      <td>0.163114</td>\n",
       "      <td>0.010916</td>\n",
       "    </tr>\n",
       "    <tr>\n",
       "      <th>1</th>\n",
       "      <td>0.000014</td>\n",
       "      <td>0.001297</td>\n",
       "      <td>0.015691</td>\n",
       "      <td>0.981617</td>\n",
       "      <td>0.001382</td>\n",
       "    </tr>\n",
       "    <tr>\n",
       "      <th>2</th>\n",
       "      <td>0.000026</td>\n",
       "      <td>0.002658</td>\n",
       "      <td>0.049725</td>\n",
       "      <td>0.933330</td>\n",
       "      <td>0.014260</td>\n",
       "    </tr>\n",
       "    <tr>\n",
       "      <th>3</th>\n",
       "      <td>0.000007</td>\n",
       "      <td>0.001745</td>\n",
       "      <td>0.009730</td>\n",
       "      <td>0.984417</td>\n",
       "      <td>0.004102</td>\n",
       "    </tr>\n",
       "    <tr>\n",
       "      <th>4</th>\n",
       "      <td>0.000002</td>\n",
       "      <td>0.000014</td>\n",
       "      <td>0.000737</td>\n",
       "      <td>0.998953</td>\n",
       "      <td>0.000294</td>\n",
       "    </tr>\n",
       "    <tr>\n",
       "      <th>...</th>\n",
       "      <td>...</td>\n",
       "      <td>...</td>\n",
       "      <td>...</td>\n",
       "      <td>...</td>\n",
       "      <td>...</td>\n",
       "    </tr>\n",
       "    <tr>\n",
       "      <th>12135</th>\n",
       "      <td>0.000033</td>\n",
       "      <td>0.059575</td>\n",
       "      <td>0.166994</td>\n",
       "      <td>0.758675</td>\n",
       "      <td>0.014724</td>\n",
       "    </tr>\n",
       "    <tr>\n",
       "      <th>12136</th>\n",
       "      <td>0.000002</td>\n",
       "      <td>0.000020</td>\n",
       "      <td>0.000888</td>\n",
       "      <td>0.998551</td>\n",
       "      <td>0.000539</td>\n",
       "    </tr>\n",
       "    <tr>\n",
       "      <th>12137</th>\n",
       "      <td>0.000006</td>\n",
       "      <td>0.000158</td>\n",
       "      <td>0.005927</td>\n",
       "      <td>0.993666</td>\n",
       "      <td>0.000243</td>\n",
       "    </tr>\n",
       "    <tr>\n",
       "      <th>12138</th>\n",
       "      <td>0.000006</td>\n",
       "      <td>0.000839</td>\n",
       "      <td>0.005803</td>\n",
       "      <td>0.992730</td>\n",
       "      <td>0.000622</td>\n",
       "    </tr>\n",
       "    <tr>\n",
       "      <th>12139</th>\n",
       "      <td>0.000013</td>\n",
       "      <td>0.001376</td>\n",
       "      <td>0.117169</td>\n",
       "      <td>0.864699</td>\n",
       "      <td>0.016743</td>\n",
       "    </tr>\n",
       "  </tbody>\n",
       "</table>\n",
       "<p>12140 rows × 5 columns</p>\n",
       "</div>"
      ],
      "text/plain": [
       "              0         1         3         4         5\n",
       "0      0.000027  0.009849  0.816094  0.163114  0.010916\n",
       "1      0.000014  0.001297  0.015691  0.981617  0.001382\n",
       "2      0.000026  0.002658  0.049725  0.933330  0.014260\n",
       "3      0.000007  0.001745  0.009730  0.984417  0.004102\n",
       "4      0.000002  0.000014  0.000737  0.998953  0.000294\n",
       "...         ...       ...       ...       ...       ...\n",
       "12135  0.000033  0.059575  0.166994  0.758675  0.014724\n",
       "12136  0.000002  0.000020  0.000888  0.998551  0.000539\n",
       "12137  0.000006  0.000158  0.005927  0.993666  0.000243\n",
       "12138  0.000006  0.000839  0.005803  0.992730  0.000622\n",
       "12139  0.000013  0.001376  0.117169  0.864699  0.016743\n",
       "\n",
       "[12140 rows x 5 columns]"
      ]
     },
     "execution_count": 54,
     "metadata": {},
     "output_type": "execute_result"
    }
   ],
   "source": [
    "# submission_1 = pd.DataFrame(y_pred, columns=model.classes_)\n",
    "# submission_1"
   ]
  },
  {
   "cell_type": "code",
   "execution_count": 55,
   "metadata": {},
   "outputs": [],
   "source": [
    "#submission_1.to_csv('apoorva_machine_hack.csv', index=False)\n",
    "## Got log loss of 0.39700 after the basic submission"
   ]
  },
  {
   "cell_type": "code",
   "execution_count": null,
   "metadata": {},
   "outputs": [],
   "source": []
  }
 ],
 "metadata": {
  "kernelspec": {
   "display_name": "Python 3",
   "language": "python",
   "name": "python3"
  },
  "language_info": {
   "codemirror_mode": {
    "name": "ipython",
    "version": 3
   },
   "file_extension": ".py",
   "mimetype": "text/x-python",
   "name": "python",
   "nbconvert_exporter": "python",
   "pygments_lexer": "ipython3",
   "version": "3.8.3"
  }
 },
 "nbformat": 4,
 "nbformat_minor": 4
}
